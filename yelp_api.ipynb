{
 "cells": [
  {
   "cell_type": "markdown",
   "id": "0a64525c",
   "metadata": {},
   "source": [
    "# Yelp API Calls\n",
    "\n",
    "Anjali Prakash\n",
    "\n",
    "**We will be using Yelp API calls to compile all bagel stores in New York into a single data frame**\n",
    "\n"
   ]
  },
  {
   "cell_type": "code",
   "execution_count": 3,
   "id": "af4a5223",
   "metadata": {},
   "outputs": [],
   "source": [
    "# Standard Imports\n",
    "import numpy as np\n",
    "import pandas as pd\n",
    "import matplotlib.pyplot as plt\n",
    "import seaborn as sns\n",
    "# Additional Imports\n",
    "import os, json, math, time\n",
    "from yelpapi import YelpAPI\n",
    "from tqdm.notebook import tqdm_notebook\n"
   ]
  },
  {
   "cell_type": "code",
   "execution_count": 5,
   "id": "d5d63e95",
   "metadata": {},
   "outputs": [],
   "source": [
    "# Load API Credentials\n",
    "with open('/Users/anjali_work/.secret/yelp_api.json') as f:   #use your path here!\n",
    "    login = json.load(f)\n",
    "# Instantiate YelpAPI Variable\n",
    "yelp_api = YelpAPI(login['api-key'], timeout_s=5.0)"
   ]
  },
  {
   "cell_type": "code",
   "execution_count": 7,
   "id": "f39e4654",
   "metadata": {},
   "outputs": [],
   "source": [
    "# set our API call parameters \n",
    "LOCATION = 'NY,NY'\n",
    "TERM = 'Bagels'"
   ]
  },
  {
   "cell_type": "code",
   "execution_count": 8,
   "id": "587d39ab",
   "metadata": {},
   "outputs": [
    {
     "data": {
      "text/plain": [
       "'Data/results_in_progress_NY_bagels.json'"
      ]
     },
     "execution_count": 8,
     "metadata": {},
     "output_type": "execute_result"
    }
   ],
   "source": [
    "# Specifying JSON_FILE filename \n",
    "JSON_FILE = \"Data/results_in_progress_NY_bagels.json\"\n",
    "JSON_FILE"
   ]
  },
  {
   "cell_type": "code",
   "execution_count": 9,
   "id": "e91a83dd",
   "metadata": {},
   "outputs": [
    {
     "name": "stdout",
     "output_type": "stream",
     "text": [
      "[i] Data/results_in_progress_NY_bagels.json not found. Saving empty list to file.\n"
     ]
    }
   ],
   "source": [
    "## Check if JSON_FILE exists\n",
    "file_exists = os.path.isfile(JSON_FILE)\n",
    "## If it does not exist: \n",
    "if file_exists == False:\n",
    "    \n",
    "    ## CREATE ANY NEEDED FOLDERS\n",
    "    # Get the Folder Name only\n",
    "    folder = os.path.dirname(JSON_FILE)\n",
    "    ## If JSON_FILE included a folder:\n",
    "    if len(folder)>0:\n",
    "        # create the folder\n",
    "        os.makedirs(folder,exist_ok=True)\n",
    "        \n",
    "        \n",
    "    ## INFORM USER AND SAVE EMPTY LIST\n",
    "    print(f'[i] {JSON_FILE} not found. Saving empty list to file.')\n",
    "    \n",
    "    \n",
    "    # save an empty list\n",
    "    with open(JSON_FILE,'w') as f:\n",
    "        json.dump([],f)  \n",
    "# If it exists, inform user\n",
    "else:\n",
    "    print(f\"[i] {JSON_FILE} already exists.\")"
   ]
  },
  {
   "cell_type": "code",
   "execution_count": 10,
   "id": "b106696a",
   "metadata": {},
   "outputs": [
    {
     "name": "stdout",
     "output_type": "stream",
     "text": [
      "- 0 previous results found.\n"
     ]
    }
   ],
   "source": [
    "## Load previous results and use len of results for offset\n",
    "with open(JSON_FILE,'r') as f:\n",
    "    previous_results = json.load(f)\n",
    "    \n",
    "## set offset based on previous results\n",
    "n_results = len(previous_results)\n",
    "print(f'- {n_results} previous results found.')"
   ]
  },
  {
   "cell_type": "code",
   "execution_count": 11,
   "id": "96b13103",
   "metadata": {},
   "outputs": [
    {
     "data": {
      "text/plain": [
       "dict_keys(['businesses', 'total', 'region'])"
      ]
     },
     "execution_count": 11,
     "metadata": {},
     "output_type": "execute_result"
    }
   ],
   "source": [
    "# use our yelp_api variable's search_query method to perform our API call\n",
    "results = yelp_api.search_query(location=LOCATION,\n",
    "                                term=TERM,\n",
    "                               offset=n_results)\n",
    "results.keys()"
   ]
  },
  {
   "cell_type": "code",
   "execution_count": 12,
   "id": "578a5307",
   "metadata": {},
   "outputs": [
    {
     "data": {
      "text/plain": [
       "8100"
      ]
     },
     "execution_count": 12,
     "metadata": {},
     "output_type": "execute_result"
    }
   ],
   "source": [
    "## How many results total?\n",
    "total_results = results['total']\n",
    "total_results"
   ]
  },
  {
   "cell_type": "code",
   "execution_count": 13,
   "id": "f78c147e",
   "metadata": {},
   "outputs": [
    {
     "data": {
      "text/plain": [
       "20"
      ]
     },
     "execution_count": 13,
     "metadata": {},
     "output_type": "execute_result"
    }
   ],
   "source": [
    "## How many did we get the details for?\n",
    "results_per_page = len(results['businesses'])\n",
    "results_per_page"
   ]
  },
  {
   "cell_type": "code",
   "execution_count": 14,
   "id": "afddc4e2",
   "metadata": {},
   "outputs": [
    {
     "data": {
      "text/plain": [
       "405"
      ]
     },
     "execution_count": 14,
     "metadata": {},
     "output_type": "execute_result"
    }
   ],
   "source": [
    "# Import additional packages for controlling our loop\n",
    "import time, math\n",
    "# Use math.ceil to round up for the total number of pages of results.\n",
    "n_pages = math.ceil((results['total']-n_results)/ results_per_page)\n",
    "n_pages"
   ]
  },
  {
   "cell_type": "code",
   "execution_count": 16,
   "id": "c64e6d4d",
   "metadata": {},
   "outputs": [],
   "source": [
    "# join new results with old list with extend and save to file\n",
    "previous_results.extend(results['businesses'])  \n",
    "with open(JSON_FILE,'w') as f:\n",
    "     json.dump(previous_results,f)"
   ]
  },
  {
   "cell_type": "code",
   "execution_count": 17,
   "id": "ec6f31c2",
   "metadata": {},
   "outputs": [
    {
     "name": "stdout",
     "output_type": "stream",
     "text": [
      "Requirement already satisfied: tqdm in /opt/homebrew/Caskroom/miniforge/base/envs/dojo-env/lib/python3.9/site-packages (4.64.1)\n",
      "Note: you may need to restart the kernel to use updated packages.\n"
     ]
    }
   ],
   "source": [
    "pip install tqdm"
   ]
  },
  {
   "cell_type": "code",
   "execution_count": 18,
   "id": "1d4313b4",
   "metadata": {},
   "outputs": [
    {
     "data": {
      "application/vnd.jupyter.widget-view+json": {
       "model_id": "f3ff49b36fc9490ab595e82b8830032d",
       "version_major": 2,
       "version_minor": 0
      },
      "text/plain": [
       "  0%|          | 0/405 [00:00<?, ?it/s]"
      ]
     },
     "metadata": {},
     "output_type": "display_data"
    }
   ],
   "source": [
    "from tqdm.notebook import tqdm_notebook\n",
    "import time\n",
    "for i in tqdm_notebook(range(n_pages)):\n",
    "    # adds 200 ms pause\n",
    "    time.sleep(.2) "
   ]
  },
  {
   "cell_type": "code",
   "execution_count": 19,
   "id": "c0cf3054",
   "metadata": {},
   "outputs": [
    {
     "data": {
      "application/vnd.jupyter.widget-view+json": {
       "model_id": "77b379b0b76549e3bfc9e2dee3bd4941",
       "version_major": 2,
       "version_minor": 0
      },
      "text/plain": [
       "  0%|          | 0/405 [00:00<?, ?it/s]"
      ]
     },
     "metadata": {},
     "output_type": "display_data"
    },
    {
     "ename": "YelpAPIError",
     "evalue": "VALIDATION_ERROR: Too many results requested, limit+offset must be <= 1000.",
     "output_type": "error",
     "traceback": [
      "\u001b[0;31m---------------------------------------------------------------------------\u001b[0m",
      "\u001b[0;31mYelpAPIError\u001b[0m                              Traceback (most recent call last)",
      "Cell \u001b[0;32mIn [19], line 9\u001b[0m\n\u001b[1;32m      7\u001b[0m n_results \u001b[38;5;241m=\u001b[39m \u001b[38;5;28mlen\u001b[39m(previous_results)\n\u001b[1;32m      8\u001b[0m \u001b[38;5;66;03m## use n_results as the OFFSET \u001b[39;00m\n\u001b[0;32m----> 9\u001b[0m results \u001b[38;5;241m=\u001b[39m \u001b[43myelp_api\u001b[49m\u001b[38;5;241;43m.\u001b[39;49m\u001b[43msearch_query\u001b[49m\u001b[43m(\u001b[49m\u001b[43mlocation\u001b[49m\u001b[38;5;241;43m=\u001b[39;49m\u001b[43mLOCATION\u001b[49m\u001b[43m,\u001b[49m\n\u001b[1;32m     10\u001b[0m \u001b[43m                                \u001b[49m\u001b[43mterm\u001b[49m\u001b[38;5;241;43m=\u001b[39;49m\u001b[43mTERM\u001b[49m\u001b[43m,\u001b[49m\u001b[43m \u001b[49m\n\u001b[1;32m     11\u001b[0m \u001b[43m                                \u001b[49m\u001b[43moffset\u001b[49m\u001b[38;5;241;43m=\u001b[39;49m\u001b[43mn_results\u001b[49m\u001b[43m)\u001b[49m\n\u001b[1;32m     13\u001b[0m \u001b[38;5;66;03m## append new results and save to file\u001b[39;00m\n\u001b[1;32m     14\u001b[0m previous_results\u001b[38;5;241m.\u001b[39mextend(results[\u001b[38;5;124m'\u001b[39m\u001b[38;5;124mbusinesses\u001b[39m\u001b[38;5;124m'\u001b[39m])\n",
      "File \u001b[0;32m~/.local/lib/python3.9/site-packages/yelpapi/yelpapi.py:234\u001b[0m, in \u001b[0;36mYelpAPI.search_query\u001b[0;34m(self, **kwargs)\u001b[0m\n\u001b[1;32m    230\u001b[0m \u001b[38;5;28;01mif\u001b[39;00m \u001b[38;5;129;01mnot\u001b[39;00m kwargs\u001b[38;5;241m.\u001b[39mget(\u001b[38;5;124m'\u001b[39m\u001b[38;5;124mlocation\u001b[39m\u001b[38;5;124m'\u001b[39m) \u001b[38;5;129;01mand\u001b[39;00m (\u001b[38;5;129;01mnot\u001b[39;00m kwargs\u001b[38;5;241m.\u001b[39mget(\u001b[38;5;124m'\u001b[39m\u001b[38;5;124mlatitude\u001b[39m\u001b[38;5;124m'\u001b[39m) \u001b[38;5;129;01mor\u001b[39;00m \u001b[38;5;129;01mnot\u001b[39;00m kwargs\u001b[38;5;241m.\u001b[39mget(\u001b[38;5;124m'\u001b[39m\u001b[38;5;124mlongitude\u001b[39m\u001b[38;5;124m'\u001b[39m)):\n\u001b[1;32m    231\u001b[0m     \u001b[38;5;28;01mraise\u001b[39;00m \u001b[38;5;167;01mValueError\u001b[39;00m(\u001b[38;5;124m'\u001b[39m\u001b[38;5;124mA valid location (parameter \u001b[39m\u001b[38;5;124m\"\u001b[39m\u001b[38;5;124mlocation\u001b[39m\u001b[38;5;124m\"\u001b[39m\u001b[38;5;124m) or latitude/longitude combination \u001b[39m\u001b[38;5;124m'\u001b[39m\n\u001b[1;32m    232\u001b[0m                      \u001b[38;5;124m'\u001b[39m\u001b[38;5;124m(parameters \u001b[39m\u001b[38;5;124m\"\u001b[39m\u001b[38;5;124mlatitude\u001b[39m\u001b[38;5;124m\"\u001b[39m\u001b[38;5;124m and \u001b[39m\u001b[38;5;124m\"\u001b[39m\u001b[38;5;124mlongitude\u001b[39m\u001b[38;5;124m\"\u001b[39m\u001b[38;5;124m) must be provided.\u001b[39m\u001b[38;5;124m'\u001b[39m)\n\u001b[0;32m--> 234\u001b[0m \u001b[38;5;28;01mreturn\u001b[39;00m \u001b[38;5;28;43mself\u001b[39;49m\u001b[38;5;241;43m.\u001b[39;49m\u001b[43m_query\u001b[49m\u001b[43m(\u001b[49m\u001b[43mSEARCH_API_URL\u001b[49m\u001b[43m,\u001b[49m\u001b[43m \u001b[49m\u001b[38;5;241;43m*\u001b[39;49m\u001b[38;5;241;43m*\u001b[39;49m\u001b[43mkwargs\u001b[49m\u001b[43m)\u001b[49m\n",
      "File \u001b[0;32m~/.local/lib/python3.9/site-packages/yelpapi/yelpapi.py:282\u001b[0m, in \u001b[0;36mYelpAPI._query\u001b[0;34m(self, url, **kwargs)\u001b[0m\n\u001b[1;32m    278\u001b[0m \u001b[38;5;66;03m# Yelp can return one of many different API errors, so check for one of them.\u001b[39;00m\n\u001b[1;32m    279\u001b[0m \u001b[38;5;66;03m# The Yelp Fusion API does not yet have a complete list of errors, but this is on the TODO list; see\u001b[39;00m\n\u001b[1;32m    280\u001b[0m \u001b[38;5;66;03m# https://github.com/Yelp/yelp-fusion/issues/95 for more info.\u001b[39;00m\n\u001b[1;32m    281\u001b[0m \u001b[38;5;28;01mif\u001b[39;00m \u001b[38;5;124m'\u001b[39m\u001b[38;5;124merror\u001b[39m\u001b[38;5;124m'\u001b[39m \u001b[38;5;129;01min\u001b[39;00m response_json:\n\u001b[0;32m--> 282\u001b[0m     \u001b[38;5;28;01mraise\u001b[39;00m YelpAPI\u001b[38;5;241m.\u001b[39mYelpAPIError(\u001b[38;5;124m'\u001b[39m\u001b[38;5;132;01m{}\u001b[39;00m\u001b[38;5;124m: \u001b[39m\u001b[38;5;132;01m{}\u001b[39;00m\u001b[38;5;124m'\u001b[39m\u001b[38;5;241m.\u001b[39mformat(response_json[\u001b[38;5;124m'\u001b[39m\u001b[38;5;124merror\u001b[39m\u001b[38;5;124m'\u001b[39m][\u001b[38;5;124m'\u001b[39m\u001b[38;5;124mcode\u001b[39m\u001b[38;5;124m'\u001b[39m],\n\u001b[1;32m    283\u001b[0m                                                response_json[\u001b[38;5;124m'\u001b[39m\u001b[38;5;124merror\u001b[39m\u001b[38;5;124m'\u001b[39m][\u001b[38;5;124m'\u001b[39m\u001b[38;5;124mdescription\u001b[39m\u001b[38;5;124m'\u001b[39m]))\n\u001b[1;32m    285\u001b[0m \u001b[38;5;66;03m# we got a good response, so return\u001b[39;00m\n\u001b[1;32m    286\u001b[0m \u001b[38;5;28;01mreturn\u001b[39;00m response_json\n",
      "\u001b[0;31mYelpAPIError\u001b[0m: VALIDATION_ERROR: Too many results requested, limit+offset must be <= 1000."
     ]
    }
   ],
   "source": [
    "for i in tqdm_notebook( range(1,n_pages+1)):\n",
    "    \n",
    "    ## Read in results in progress file and check the length\n",
    "    with open(JSON_FILE, 'r') as f:\n",
    "        previous_results = json.load(f)\n",
    "    ## save number of results for to use as offset\n",
    "    n_results = len(previous_results)\n",
    "    ## use n_results as the OFFSET \n",
    "    results = yelp_api.search_query(location=LOCATION,\n",
    "                                    term=TERM, \n",
    "                                    offset=n_results)\n",
    "    \n",
    "    ## append new results and save to file\n",
    "    previous_results.extend(results['businesses'])\n",
    "    \n",
    "    with open(JSON_FILE,'w') as f:\n",
    "        json.dump(previous_results,f)\n",
    "    \n",
    "    # add a 200ms pause\n",
    "    time.sleep(.2)"
   ]
  },
  {
   "cell_type": "code",
   "execution_count": 20,
   "id": "47ccf283",
   "metadata": {},
   "outputs": [
    {
     "data": {
      "text/plain": [
       "False"
      ]
     },
     "execution_count": 20,
     "metadata": {},
     "output_type": "execute_result"
    }
   ],
   "source": [
    "## delete file and confirm it no longer exits.\n",
    "os.remove(JSON_FILE)\n",
    "os.path.isfile(JSON_FILE)"
   ]
  },
  {
   "cell_type": "code",
   "execution_count": 21,
   "id": "b73db2e8",
   "metadata": {},
   "outputs": [],
   "source": [
    "def create_json_file(JSON_FILE,  delete_if_exists=False):\n",
    "    \n",
    "    ## Check if JSON_FILE exists\n",
    "    file_exists = os.path.isfile(JSON_FILE)\n",
    "    \n",
    "    ## If it DOES exist:\n",
    "    if file_exists == True:\n",
    "        \n",
    "        ## Check if user wants to delete if exists\n",
    "        if delete_if_exists==True:\n",
    "            \n",
    "            print(f\"[!] {JSON_FILE} already exists. Deleting previous file...\")\n",
    "            ## delete file and confirm it no longer exits.\n",
    "            os.remove(JSON_FILE)\n",
    "            ## Recursive call to function after old file deleted\n",
    "            create_json_file(JSON_FILE,delete_if_exists=False)\n",
    "        else:\n",
    "            print(f\"[i] {JSON_FILE} already exists.\")            \n",
    "            \n",
    "            \n",
    "    ## If it does NOT exist:\n",
    "    else:\n",
    "        \n",
    "        ## INFORM USER AND SAVE EMPTY LIST\n",
    "        print(f\"[i] {JSON_FILE} not found. Saving empty list to new file.\")\n",
    "        \n",
    "        ## CREATE ANY NEEDED FOLDERS\n",
    "        # Get the Folder Name only\n",
    "        folder = os.path.dirname(JSON_FILE)\n",
    "        \n",
    "        ## If JSON_FILE included a folder:\n",
    "        if len(folder)>0:\n",
    "            # create the folder\n",
    "            os.makedirs(folder,exist_ok=True)\n",
    "        ## Save empty list to start the json file\n",
    "        with open(JSON_FILE,'w') as f:\n",
    "            json.dump([],f)  "
   ]
  },
  {
   "cell_type": "code",
   "execution_count": 22,
   "id": "07156b7c",
   "metadata": {},
   "outputs": [
    {
     "name": "stdout",
     "output_type": "stream",
     "text": [
      "[i] Data/results_in_progress_NY_bagels.json not found. Saving empty list to new file.\n",
      "- 0 previous results found.\n"
     ]
    },
    {
     "data": {
      "text/plain": [
       "405"
      ]
     },
     "execution_count": 22,
     "metadata": {},
     "output_type": "execute_result"
    }
   ],
   "source": [
    "## Create a new empty json file (exist the previous if it exists)\n",
    "create_json_file(JSON_FILE, delete_if_exists=True)\n",
    "## Load previous results and use len of results for offset\n",
    "with open(JSON_FILE,'r') as f:\n",
    "    previous_results = json.load(f)\n",
    "    \n",
    "## set offset based on previous results\n",
    "n_results = len(previous_results)\n",
    "print(f'- {n_results} previous results found.')\n",
    "# use our yelp_api variable's search_query method to perform our API call\n",
    "results = yelp_api.search_query(location=LOCATION,\n",
    "                                term=TERM,\n",
    "                               offset=n_results)\n",
    "## How many results total?\n",
    "total_results = results['total']\n",
    "## How many did we get the details for?\n",
    "results_per_page = len(results['businesses'])\n",
    "# Use math.ceil to round up for the total number of pages of results.\n",
    "n_pages = math.ceil((results['total']-n_results)/ results_per_page)\n",
    "n_pages"
   ]
  },
  {
   "cell_type": "code",
   "execution_count": 23,
   "id": "d7bd1d79",
   "metadata": {},
   "outputs": [
    {
     "data": {
      "application/vnd.jupyter.widget-view+json": {
       "model_id": "b8a1319a420a4e73b6137452ef262288",
       "version_major": 2,
       "version_minor": 0
      },
      "text/plain": [
       "  0%|          | 0/405 [00:00<?, ?it/s]"
      ]
     },
     "metadata": {},
     "output_type": "display_data"
    },
    {
     "name": "stdout",
     "output_type": "stream",
     "text": [
      "Exceeded 1000 api calls. Stopping loop.\n"
     ]
    }
   ],
   "source": [
    "for i in tqdm_notebook( range(1,n_pages+1)):\n",
    "    \n",
    "    ## Read in results in progress file and check the length\n",
    "    with open(JSON_FILE, 'r') as f:\n",
    "        previous_results = json.load(f)\n",
    "    ## save number of results for to use as offset\n",
    "    n_results = len(previous_results)\n",
    "    \n",
    "    if (n_results + results_per_page) > 1000:\n",
    "        print('Exceeded 1000 api calls. Stopping loop.')\n",
    "        break\n",
    "    \n",
    "    ## use n_results as the OFFSET \n",
    "    results = yelp_api.search_query(location=LOCATION,\n",
    "                                    term=TERM, \n",
    "                                    offset=n_results)\n",
    "    \n",
    "    \n",
    "    \n",
    "    ## append new results and save to file\n",
    "    previous_results.extend(results['businesses'])\n",
    "    \n",
    "    # display(previous_results)\n",
    "    with open(JSON_FILE,'w') as f:\n",
    "        json.dump(previous_results,f)\n",
    "    \n",
    "    time.sleep(.2)"
   ]
  },
  {
   "cell_type": "code",
   "execution_count": 24,
   "id": "de2d4663",
   "metadata": {},
   "outputs": [
    {
     "data": {
      "text/html": [
       "<div>\n",
       "<style scoped>\n",
       "    .dataframe tbody tr th:only-of-type {\n",
       "        vertical-align: middle;\n",
       "    }\n",
       "\n",
       "    .dataframe tbody tr th {\n",
       "        vertical-align: top;\n",
       "    }\n",
       "\n",
       "    .dataframe thead th {\n",
       "        text-align: right;\n",
       "    }\n",
       "</style>\n",
       "<table border=\"1\" class=\"dataframe\">\n",
       "  <thead>\n",
       "    <tr style=\"text-align: right;\">\n",
       "      <th></th>\n",
       "      <th>id</th>\n",
       "      <th>alias</th>\n",
       "      <th>name</th>\n",
       "      <th>image_url</th>\n",
       "      <th>is_closed</th>\n",
       "      <th>url</th>\n",
       "      <th>review_count</th>\n",
       "      <th>categories</th>\n",
       "      <th>rating</th>\n",
       "      <th>coordinates</th>\n",
       "      <th>transactions</th>\n",
       "      <th>price</th>\n",
       "      <th>location</th>\n",
       "      <th>phone</th>\n",
       "      <th>display_phone</th>\n",
       "      <th>distance</th>\n",
       "    </tr>\n",
       "  </thead>\n",
       "  <tbody>\n",
       "    <tr>\n",
       "      <th>0</th>\n",
       "      <td>j1S3NUrkB3BVT49n_e76NQ</td>\n",
       "      <td>best-bagel-and-coffee-new-york</td>\n",
       "      <td>Best Bagel &amp; Coffee</td>\n",
       "      <td>https://s3-media1.fl.yelpcdn.com/bphoto/91RtGG...</td>\n",
       "      <td>False</td>\n",
       "      <td>https://www.yelp.com/biz/best-bagel-and-coffee...</td>\n",
       "      <td>4563</td>\n",
       "      <td>[{'alias': 'bagels', 'title': 'Bagels'}, {'ali...</td>\n",
       "      <td>4.5</td>\n",
       "      <td>{'latitude': 40.7522683, 'longitude': -73.9910...</td>\n",
       "      <td>[pickup, delivery]</td>\n",
       "      <td>$</td>\n",
       "      <td>{'address1': '225 W 35th St', 'address2': '', ...</td>\n",
       "      <td>+12125644409</td>\n",
       "      <td>(212) 564-4409</td>\n",
       "      <td>5213.531501</td>\n",
       "    </tr>\n",
       "    <tr>\n",
       "      <th>1</th>\n",
       "      <td>VrCCr45dhN-RRM107iptdg</td>\n",
       "      <td>russ-and-daughters-new-york</td>\n",
       "      <td>Russ &amp; Daughters</td>\n",
       "      <td>https://s3-media2.fl.yelpcdn.com/bphoto/fZTO8K...</td>\n",
       "      <td>False</td>\n",
       "      <td>https://www.yelp.com/biz/russ-and-daughters-ne...</td>\n",
       "      <td>2793</td>\n",
       "      <td>[{'alias': 'bagels', 'title': 'Bagels'}, {'ali...</td>\n",
       "      <td>4.5</td>\n",
       "      <td>{'latitude': 40.722589, 'longitude': -73.98828...</td>\n",
       "      <td>[delivery]</td>\n",
       "      <td>$$</td>\n",
       "      <td>{'address1': '179 E Houston St', 'address2': '...</td>\n",
       "      <td>+12124754880</td>\n",
       "      <td>(212) 475-4880</td>\n",
       "      <td>1972.496648</td>\n",
       "    </tr>\n",
       "    <tr>\n",
       "      <th>2</th>\n",
       "      <td>foO2N-TrdPBO-dFn6M35TA</td>\n",
       "      <td>brooklyn-bagel-and-coffee-company-new-york-8</td>\n",
       "      <td>Brooklyn Bagel &amp; Coffee Company</td>\n",
       "      <td>https://s3-media2.fl.yelpcdn.com/bphoto/P5mdzj...</td>\n",
       "      <td>False</td>\n",
       "      <td>https://www.yelp.com/biz/brooklyn-bagel-and-co...</td>\n",
       "      <td>283</td>\n",
       "      <td>[{'alias': 'bagels', 'title': 'Bagels'}, {'ali...</td>\n",
       "      <td>4.5</td>\n",
       "      <td>{'latitude': 40.73104, 'longitude': -73.9932199}</td>\n",
       "      <td>[pickup, delivery]</td>\n",
       "      <td>$</td>\n",
       "      <td>{'address1': '63 E 8th St', 'address2': None, ...</td>\n",
       "      <td>+12124773070</td>\n",
       "      <td>(212) 477-3070</td>\n",
       "      <td>2846.031390</td>\n",
       "    </tr>\n",
       "    <tr>\n",
       "      <th>3</th>\n",
       "      <td>YuirIY8ukMb5F8BQhHh82A</td>\n",
       "      <td>pop-up-bagels-new-york</td>\n",
       "      <td>Pop Up Bagels</td>\n",
       "      <td>https://s3-media4.fl.yelpcdn.com/bphoto/Halg-t...</td>\n",
       "      <td>False</td>\n",
       "      <td>https://www.yelp.com/biz/pop-up-bagels-new-yor...</td>\n",
       "      <td>90</td>\n",
       "      <td>[{'alias': 'bagels', 'title': 'Bagels'}, {'ali...</td>\n",
       "      <td>4.5</td>\n",
       "      <td>{'latitude': 40.72792, 'longitude': -74.00022}</td>\n",
       "      <td>[]</td>\n",
       "      <td>NaN</td>\n",
       "      <td>{'address1': '177 Thompson St', 'address2': ''...</td>\n",
       "      <td></td>\n",
       "      <td></td>\n",
       "      <td>2549.322239</td>\n",
       "    </tr>\n",
       "    <tr>\n",
       "      <th>4</th>\n",
       "      <td>oi39VAwo4-KGm_gSkWPCsQ</td>\n",
       "      <td>tompkins-square-bagels-avenue-a-new-york</td>\n",
       "      <td>Tompkins Square Bagels - Avenue A</td>\n",
       "      <td>https://s3-media3.fl.yelpcdn.com/bphoto/VbTibL...</td>\n",
       "      <td>False</td>\n",
       "      <td>https://www.yelp.com/biz/tompkins-square-bagel...</td>\n",
       "      <td>1502</td>\n",
       "      <td>[{'alias': 'bagels', 'title': 'Bagels'}]</td>\n",
       "      <td>4.0</td>\n",
       "      <td>{'latitude': 40.72823, 'longitude': -73.9823}</td>\n",
       "      <td>[pickup, delivery]</td>\n",
       "      <td>$$</td>\n",
       "      <td>{'address1': '165 Avenue A', 'address2': '', '...</td>\n",
       "      <td>+16463516520</td>\n",
       "      <td>(646) 351-6520</td>\n",
       "      <td>2727.847810</td>\n",
       "    </tr>\n",
       "  </tbody>\n",
       "</table>\n",
       "</div>"
      ],
      "text/plain": [
       "                       id                                         alias  \\\n",
       "0  j1S3NUrkB3BVT49n_e76NQ                best-bagel-and-coffee-new-york   \n",
       "1  VrCCr45dhN-RRM107iptdg                   russ-and-daughters-new-york   \n",
       "2  foO2N-TrdPBO-dFn6M35TA  brooklyn-bagel-and-coffee-company-new-york-8   \n",
       "3  YuirIY8ukMb5F8BQhHh82A                        pop-up-bagels-new-york   \n",
       "4  oi39VAwo4-KGm_gSkWPCsQ      tompkins-square-bagels-avenue-a-new-york   \n",
       "\n",
       "                                name  \\\n",
       "0                Best Bagel & Coffee   \n",
       "1                   Russ & Daughters   \n",
       "2    Brooklyn Bagel & Coffee Company   \n",
       "3                      Pop Up Bagels   \n",
       "4  Tompkins Square Bagels - Avenue A   \n",
       "\n",
       "                                           image_url  is_closed  \\\n",
       "0  https://s3-media1.fl.yelpcdn.com/bphoto/91RtGG...      False   \n",
       "1  https://s3-media2.fl.yelpcdn.com/bphoto/fZTO8K...      False   \n",
       "2  https://s3-media2.fl.yelpcdn.com/bphoto/P5mdzj...      False   \n",
       "3  https://s3-media4.fl.yelpcdn.com/bphoto/Halg-t...      False   \n",
       "4  https://s3-media3.fl.yelpcdn.com/bphoto/VbTibL...      False   \n",
       "\n",
       "                                                 url  review_count  \\\n",
       "0  https://www.yelp.com/biz/best-bagel-and-coffee...          4563   \n",
       "1  https://www.yelp.com/biz/russ-and-daughters-ne...          2793   \n",
       "2  https://www.yelp.com/biz/brooklyn-bagel-and-co...           283   \n",
       "3  https://www.yelp.com/biz/pop-up-bagels-new-yor...            90   \n",
       "4  https://www.yelp.com/biz/tompkins-square-bagel...          1502   \n",
       "\n",
       "                                          categories  rating  \\\n",
       "0  [{'alias': 'bagels', 'title': 'Bagels'}, {'ali...     4.5   \n",
       "1  [{'alias': 'bagels', 'title': 'Bagels'}, {'ali...     4.5   \n",
       "2  [{'alias': 'bagels', 'title': 'Bagels'}, {'ali...     4.5   \n",
       "3  [{'alias': 'bagels', 'title': 'Bagels'}, {'ali...     4.5   \n",
       "4           [{'alias': 'bagels', 'title': 'Bagels'}]     4.0   \n",
       "\n",
       "                                         coordinates        transactions  \\\n",
       "0  {'latitude': 40.7522683, 'longitude': -73.9910...  [pickup, delivery]   \n",
       "1  {'latitude': 40.722589, 'longitude': -73.98828...          [delivery]   \n",
       "2   {'latitude': 40.73104, 'longitude': -73.9932199}  [pickup, delivery]   \n",
       "3     {'latitude': 40.72792, 'longitude': -74.00022}                  []   \n",
       "4      {'latitude': 40.72823, 'longitude': -73.9823}  [pickup, delivery]   \n",
       "\n",
       "  price                                           location         phone  \\\n",
       "0     $  {'address1': '225 W 35th St', 'address2': '', ...  +12125644409   \n",
       "1    $$  {'address1': '179 E Houston St', 'address2': '...  +12124754880   \n",
       "2     $  {'address1': '63 E 8th St', 'address2': None, ...  +12124773070   \n",
       "3   NaN  {'address1': '177 Thompson St', 'address2': ''...                 \n",
       "4    $$  {'address1': '165 Avenue A', 'address2': '', '...  +16463516520   \n",
       "\n",
       "    display_phone     distance  \n",
       "0  (212) 564-4409  5213.531501  \n",
       "1  (212) 475-4880  1972.496648  \n",
       "2  (212) 477-3070  2846.031390  \n",
       "3                  2549.322239  \n",
       "4  (646) 351-6520  2727.847810  "
      ]
     },
     "metadata": {},
     "output_type": "display_data"
    },
    {
     "data": {
      "text/html": [
       "<div>\n",
       "<style scoped>\n",
       "    .dataframe tbody tr th:only-of-type {\n",
       "        vertical-align: middle;\n",
       "    }\n",
       "\n",
       "    .dataframe tbody tr th {\n",
       "        vertical-align: top;\n",
       "    }\n",
       "\n",
       "    .dataframe thead th {\n",
       "        text-align: right;\n",
       "    }\n",
       "</style>\n",
       "<table border=\"1\" class=\"dataframe\">\n",
       "  <thead>\n",
       "    <tr style=\"text-align: right;\">\n",
       "      <th></th>\n",
       "      <th>id</th>\n",
       "      <th>alias</th>\n",
       "      <th>name</th>\n",
       "      <th>image_url</th>\n",
       "      <th>is_closed</th>\n",
       "      <th>url</th>\n",
       "      <th>review_count</th>\n",
       "      <th>categories</th>\n",
       "      <th>rating</th>\n",
       "      <th>coordinates</th>\n",
       "      <th>transactions</th>\n",
       "      <th>price</th>\n",
       "      <th>location</th>\n",
       "      <th>phone</th>\n",
       "      <th>display_phone</th>\n",
       "      <th>distance</th>\n",
       "    </tr>\n",
       "  </thead>\n",
       "  <tbody>\n",
       "    <tr>\n",
       "      <th>995</th>\n",
       "      <td>dKgMlvm_kcm6eLxCjkCwGw</td>\n",
       "      <td>forest-superette-and-bagels-staten-island</td>\n",
       "      <td>Forest superette and bagels</td>\n",
       "      <td>https://s3-media4.fl.yelpcdn.com/bphoto/vQytzM...</td>\n",
       "      <td>False</td>\n",
       "      <td>https://www.yelp.com/biz/forest-superette-and-...</td>\n",
       "      <td>7</td>\n",
       "      <td>[{'alias': 'bagels', 'title': 'Bagels'}]</td>\n",
       "      <td>3.0</td>\n",
       "      <td>{'latitude': 40.6308999, 'longitude': -74.10101}</td>\n",
       "      <td>[pickup, delivery]</td>\n",
       "      <td>$</td>\n",
       "      <td>{'address1': '350 Forest Ave', 'address2': Non...</td>\n",
       "      <td>+17182736928</td>\n",
       "      <td>(718) 273-6928</td>\n",
       "      <td>12234.759914</td>\n",
       "    </tr>\n",
       "    <tr>\n",
       "      <th>996</th>\n",
       "      <td>CVxz9B5ncpMwVK1bk_c1YA</td>\n",
       "      <td>veselka-new-york</td>\n",
       "      <td>Veselka</td>\n",
       "      <td>https://s3-media3.fl.yelpcdn.com/bphoto/19rGb5...</td>\n",
       "      <td>False</td>\n",
       "      <td>https://www.yelp.com/biz/veselka-new-york?adju...</td>\n",
       "      <td>3086</td>\n",
       "      <td>[{'alias': 'diners', 'title': 'Diners'}, {'ali...</td>\n",
       "      <td>4.0</td>\n",
       "      <td>{'latitude': 40.729036, 'longitude': -73.98712}</td>\n",
       "      <td>[pickup, delivery]</td>\n",
       "      <td>$$</td>\n",
       "      <td>{'address1': '144 2nd Ave', 'address2': '', 'a...</td>\n",
       "      <td>+12122289682</td>\n",
       "      <td>(212) 228-9682</td>\n",
       "      <td>2691.973201</td>\n",
       "    </tr>\n",
       "    <tr>\n",
       "      <th>997</th>\n",
       "      <td>kCRNgd0gE1jqdxH6iKRjRw</td>\n",
       "      <td>hidden-grounds-coffee-jersey-city-4</td>\n",
       "      <td>Hidden Grounds Coffee</td>\n",
       "      <td>https://s3-media2.fl.yelpcdn.com/bphoto/-ptYT3...</td>\n",
       "      <td>False</td>\n",
       "      <td>https://www.yelp.com/biz/hidden-grounds-coffee...</td>\n",
       "      <td>16</td>\n",
       "      <td>[{'alias': 'coffee', 'title': 'Coffee &amp; Tea'},...</td>\n",
       "      <td>4.5</td>\n",
       "      <td>{'latitude': 40.72221, 'longitude': -74.04624}</td>\n",
       "      <td>[pickup, delivery]</td>\n",
       "      <td>NaN</td>\n",
       "      <td>{'address1': '276 1st St', 'address2': None, '...</td>\n",
       "      <td>+12016100090</td>\n",
       "      <td>(201) 610-0090</td>\n",
       "      <td>4754.477120</td>\n",
       "    </tr>\n",
       "    <tr>\n",
       "      <th>998</th>\n",
       "      <td>0LtLFRGu0SYc3i4nGIabmA</td>\n",
       "      <td>the-bagel-shoppe-hackensack</td>\n",
       "      <td>The Bagel Shoppe</td>\n",
       "      <td>https://s3-media2.fl.yelpcdn.com/bphoto/6C07wa...</td>\n",
       "      <td>False</td>\n",
       "      <td>https://www.yelp.com/biz/the-bagel-shoppe-hack...</td>\n",
       "      <td>103</td>\n",
       "      <td>[{'alias': 'bagels', 'title': 'Bagels'}, {'ali...</td>\n",
       "      <td>3.5</td>\n",
       "      <td>{'latitude': 40.89908, 'longitude': -74.05611}</td>\n",
       "      <td>[pickup, delivery]</td>\n",
       "      <td>$</td>\n",
       "      <td>{'address1': '447 Passaic St', 'address2': '',...</td>\n",
       "      <td>+12013422626</td>\n",
       "      <td>(201) 342-2626</td>\n",
       "      <td>22150.993340</td>\n",
       "    </tr>\n",
       "    <tr>\n",
       "      <th>999</th>\n",
       "      <td>QAGFu7pqCAZUJkYkUB5pjg</td>\n",
       "      <td>urbanspace-vanderbilt-new-york-3</td>\n",
       "      <td>Urbanspace Vanderbilt</td>\n",
       "      <td>https://s3-media3.fl.yelpcdn.com/bphoto/eMFzy4...</td>\n",
       "      <td>False</td>\n",
       "      <td>https://www.yelp.com/biz/urbanspace-vanderbilt...</td>\n",
       "      <td>692</td>\n",
       "      <td>[{'alias': 'food_court', 'title': 'Food Court'}]</td>\n",
       "      <td>4.0</td>\n",
       "      <td>{'latitude': 40.75445371780593, 'longitude': -...</td>\n",
       "      <td>[pickup, delivery]</td>\n",
       "      <td>$$</td>\n",
       "      <td>{'address1': '230 Park Ave', 'address2': '', '...</td>\n",
       "      <td>+16467470810</td>\n",
       "      <td>(646) 747-0810</td>\n",
       "      <td>5649.399350</td>\n",
       "    </tr>\n",
       "  </tbody>\n",
       "</table>\n",
       "</div>"
      ],
      "text/plain": [
       "                         id                                      alias  \\\n",
       "995  dKgMlvm_kcm6eLxCjkCwGw  forest-superette-and-bagels-staten-island   \n",
       "996  CVxz9B5ncpMwVK1bk_c1YA                           veselka-new-york   \n",
       "997  kCRNgd0gE1jqdxH6iKRjRw        hidden-grounds-coffee-jersey-city-4   \n",
       "998  0LtLFRGu0SYc3i4nGIabmA                the-bagel-shoppe-hackensack   \n",
       "999  QAGFu7pqCAZUJkYkUB5pjg           urbanspace-vanderbilt-new-york-3   \n",
       "\n",
       "                            name  \\\n",
       "995  Forest superette and bagels   \n",
       "996                      Veselka   \n",
       "997        Hidden Grounds Coffee   \n",
       "998             The Bagel Shoppe   \n",
       "999        Urbanspace Vanderbilt   \n",
       "\n",
       "                                             image_url  is_closed  \\\n",
       "995  https://s3-media4.fl.yelpcdn.com/bphoto/vQytzM...      False   \n",
       "996  https://s3-media3.fl.yelpcdn.com/bphoto/19rGb5...      False   \n",
       "997  https://s3-media2.fl.yelpcdn.com/bphoto/-ptYT3...      False   \n",
       "998  https://s3-media2.fl.yelpcdn.com/bphoto/6C07wa...      False   \n",
       "999  https://s3-media3.fl.yelpcdn.com/bphoto/eMFzy4...      False   \n",
       "\n",
       "                                                   url  review_count  \\\n",
       "995  https://www.yelp.com/biz/forest-superette-and-...             7   \n",
       "996  https://www.yelp.com/biz/veselka-new-york?adju...          3086   \n",
       "997  https://www.yelp.com/biz/hidden-grounds-coffee...            16   \n",
       "998  https://www.yelp.com/biz/the-bagel-shoppe-hack...           103   \n",
       "999  https://www.yelp.com/biz/urbanspace-vanderbilt...           692   \n",
       "\n",
       "                                            categories  rating  \\\n",
       "995           [{'alias': 'bagels', 'title': 'Bagels'}]     3.0   \n",
       "996  [{'alias': 'diners', 'title': 'Diners'}, {'ali...     4.0   \n",
       "997  [{'alias': 'coffee', 'title': 'Coffee & Tea'},...     4.5   \n",
       "998  [{'alias': 'bagels', 'title': 'Bagels'}, {'ali...     3.5   \n",
       "999   [{'alias': 'food_court', 'title': 'Food Court'}]     4.0   \n",
       "\n",
       "                                           coordinates        transactions  \\\n",
       "995   {'latitude': 40.6308999, 'longitude': -74.10101}  [pickup, delivery]   \n",
       "996    {'latitude': 40.729036, 'longitude': -73.98712}  [pickup, delivery]   \n",
       "997     {'latitude': 40.72221, 'longitude': -74.04624}  [pickup, delivery]   \n",
       "998     {'latitude': 40.89908, 'longitude': -74.05611}  [pickup, delivery]   \n",
       "999  {'latitude': 40.75445371780593, 'longitude': -...  [pickup, delivery]   \n",
       "\n",
       "    price                                           location         phone  \\\n",
       "995     $  {'address1': '350 Forest Ave', 'address2': Non...  +17182736928   \n",
       "996    $$  {'address1': '144 2nd Ave', 'address2': '', 'a...  +12122289682   \n",
       "997   NaN  {'address1': '276 1st St', 'address2': None, '...  +12016100090   \n",
       "998     $  {'address1': '447 Passaic St', 'address2': '',...  +12013422626   \n",
       "999    $$  {'address1': '230 Park Ave', 'address2': '', '...  +16467470810   \n",
       "\n",
       "      display_phone      distance  \n",
       "995  (718) 273-6928  12234.759914  \n",
       "996  (212) 228-9682   2691.973201  \n",
       "997  (201) 610-0090   4754.477120  \n",
       "998  (201) 342-2626  22150.993340  \n",
       "999  (646) 747-0810   5649.399350  "
      ]
     },
     "metadata": {},
     "output_type": "display_data"
    }
   ],
   "source": [
    "# load final results\n",
    "final_df = pd.read_json(JSON_FILE)\n",
    "display(final_df.head(), final_df.tail())"
   ]
  },
  {
   "cell_type": "code",
   "execution_count": 26,
   "id": "177023a1",
   "metadata": {},
   "outputs": [
    {
     "data": {
      "text/plain": [
       "12"
      ]
     },
     "execution_count": 26,
     "metadata": {},
     "output_type": "execute_result"
    }
   ],
   "source": [
    "# check for duplicate ID's \n",
    "final_df.duplicated(subset='id').sum()"
   ]
  },
  {
   "cell_type": "code",
   "execution_count": 27,
   "id": "ee8b1bf3",
   "metadata": {},
   "outputs": [
    {
     "data": {
      "text/plain": [
       "0"
      ]
     },
     "execution_count": 27,
     "metadata": {},
     "output_type": "execute_result"
    }
   ],
   "source": [
    "## Drop duplicate ids and confirm there are no more duplicates\n",
    "final_df = final_df.drop_duplicates(subset='id')\n",
    "final_df.duplicated(subset='id').sum()"
   ]
  },
  {
   "cell_type": "code",
   "execution_count": 28,
   "id": "87ba06be",
   "metadata": {},
   "outputs": [],
   "source": [
    "# save the final results to a compressed csv\n",
    "final_df.to_csv('Data/final_results_NY_bagels.csv.gz', compression='gzip',index=False)"
   ]
  },
  {
   "cell_type": "code",
   "execution_count": null,
   "id": "d9002d9f",
   "metadata": {},
   "outputs": [],
   "source": []
  }
 ],
 "metadata": {
  "kernelspec": {
   "display_name": "Python (dojo-env)",
   "language": "python",
   "name": "dojo-env"
  },
  "language_info": {
   "codemirror_mode": {
    "name": "ipython",
    "version": 3
   },
   "file_extension": ".py",
   "mimetype": "text/x-python",
   "name": "python",
   "nbconvert_exporter": "python",
   "pygments_lexer": "ipython3",
   "version": "3.9.15"
  },
  "toc": {
   "base_numbering": 1,
   "nav_menu": {},
   "number_sections": true,
   "sideBar": true,
   "skip_h1_title": false,
   "title_cell": "Table of Contents",
   "title_sidebar": "Contents",
   "toc_cell": false,
   "toc_position": {},
   "toc_section_display": true,
   "toc_window_display": false
  }
 },
 "nbformat": 4,
 "nbformat_minor": 5
}
